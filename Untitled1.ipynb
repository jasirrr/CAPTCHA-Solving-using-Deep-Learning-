{
 "cells": [
  {
   "cell_type": "code",
   "execution_count": 11,
   "id": "204e5adf-e634-477c-a0b7-1c82755d913a",
   "metadata": {},
   "outputs": [
    {
     "name": "stderr",
     "output_type": "stream",
     "text": [
      "WARNING:absl:Compiled the loaded model, but the compiled metrics have yet to be built. `model.compile_metrics` will be empty until you train or evaluate the model.\n"
     ]
    },
    {
     "name": "stdout",
     "output_type": "stream",
     "text": [
      "\u001b[1m1/1\u001b[0m \u001b[32m━━━━━━━━━━━━━━━━━━━━\u001b[0m\u001b[37m\u001b[0m \u001b[1m0s\u001b[0m 109ms/step\n"
     ]
    },
    {
     "data": {
      "image/png": "[encoded data removed]",
      "text/plain": [
       "<Figure size 1000x500 with 1 Axes>"
      ]
     },
     "metadata": {},
     "output_type": "display_data"
    },
    {
     "name": "stdout",
     "output_type": "stream",
     "text": [
      "Predicted CAPTCHA text: ZY39\n"
     ]
    }
   ],
   "source": [
    "import cv2\n",
    "import numpy as np\n",
    "from tensorflow.keras.models import load_model\n",
    "import pickle\n",
    "import matplotlib.pyplot as plt\n",
    "\n",
    "# Load the pre-trained model\n",
    "model = load_model(\"captcha_model.h5\")\n",
    "\n",
    "# Load the label binarizer (the mapping from labels to characters)\n",
    "with open(\"model_labels.dat\", \"rb\") as f:\n",
    "    char_to_label = pickle.load(f)\n",
    "\n",
    "# Reverse the char_to_label dictionary to map indices back to characters\n",
    "label_to_char = {v: k for k, v in char_to_label.items()}\n",
    "\n",
    "def preprocess_image(image_path):\n",
    "    \"\"\"\n",
    "    Preprocesses a new CAPTCHA image for prediction.\n",
    "    \"\"\"\n",
    "    # Load the image and convert it to grayscale\n",
    "    image = cv2.imread(image_path)\n",
    "    gray = cv2.cvtColor(image, cv2.COLOR_BGR2GRAY)\n",
    "    \n",
    "    # Add extra padding around the image\n",
    "    gray = cv2.copyMakeBorder(gray, 8, 8, 8, 8, cv2.BORDER_REPLICATE)\n",
    "    \n",
    "    # Threshold the image (convert it to pure black and white)\n",
    "    thresh = cv2.threshold(gray, 0, 255, cv2.THRESH_BINARY_INV | cv2.THRESH_OTSU)[1]\n",
    "    \n",
    "    # Find contours in the image\n",
    "    contours, _ = cv2.findContours(thresh.copy(), cv2.RETR_EXTERNAL, cv2.CHAIN_APPROX_SIMPLE)\n",
    "    \n",
    "    letter_image_regions = []\n",
    "    # Loop through each contour and extract the letter inside\n",
    "    for contour in contours:\n",
    "        (x, y, w, h) = cv2.boundingRect(contour)\n",
    "        # Split wide contours (conjoined letters) into two regions\n",
    "        if w / h > 1.25:\n",
    "            half_width = int(w / 2)\n",
    "            letter_image_regions.append((x, y, half_width, h))\n",
    "            letter_image_regions.append((x + half_width, y, half_width, h))\n",
    "        else:\n",
    "            letter_image_regions.append((x, y, w, h))\n",
    "    \n",
    "    # Sort the detected letter images from left-to-right\n",
    "    letter_image_regions = sorted(letter_image_regions, key=lambda x: x[0])\n",
    "    \n",
    "    # Extract each letter as an individual image and preprocess it for the model\n",
    "    letter_images = []\n",
    "    for letter_bounding_box in letter_image_regions:\n",
    "        x, y, w, h = letter_bounding_box\n",
    "        letter_image = gray[y - 2:y + h + 2, x - 2:x + w + 2]\n",
    "        # Resize the letter image to 20x20 pixels (model input size)\n",
    "        letter_image_resized = cv2.resize(letter_image, (20, 20))\n",
    "        # Normalize the pixel values to [0, 1]\n",
    "        letter_image_resized = letter_image_resized.astype(\"float32\") / 255.0\n",
    "        # Reshape for the CNN model\n",
    "        letter_images.append(letter_image_resized.reshape((20, 20, 1)))\n",
    "    \n",
    "    return np.array(letter_images), image\n",
    "\n",
    "def predict_captcha(image_path):\n",
    "    \"\"\"\n",
    "    Predicts the text in a CAPTCHA image and displays the image.\n",
    "    \"\"\"\n",
    "    letter_images, original_image = preprocess_image(image_path)\n",
    "    \n",
    "    # Make predictions using the model\n",
    "    predictions = model.predict(letter_images)\n",
    "    \n",
    "    # Convert predictions to characters\n",
    "    predicted_text = ''.join([label_to_char[np.argmax(pred)] for pred in predictions])\n",
    "    \n",
    "    # Display the original image with prediction\n",
    "    # Convert BGR to RGB for matplotlib\n",
    "    original_image_rgb = cv2.cvtColor(original_image, cv2.COLOR_BGR2RGB)\n",
    "    \n",
    "    plt.figure(figsize=(10, 5))\n",
    "    plt.imshow(original_image_rgb)\n",
    "    plt.title(f'Predicted CAPTCHA text: {predicted_text}')\n",
    "    plt.axis('off')\n",
    "    plt.show()\n",
    "    \n",
    "    return predicted_text\n",
    "\n",
    "# Example usage\n",
    "image_path = r\"C:\\Users\\adars\\Downloads\\CAPTCHA\\ZY39.png\"\n",
    "predicted_text = predict_captcha(image_path)\n",
    "print(f\"Predicted CAPTCHA text: {predicted_text}\")"
   ]
  },
  {
   "cell_type": "code",
   "execution_count": null,
   "id": "e641225e-73a9-4fe3-9a04-16141f2eb4f3",
   "metadata": {},
   "outputs": [],
   "source": []
  }
 ],
 "metadata": {
  "kernelspec": {
   "display_name": "Python 3 (ipykernel)",
   "language": "python",
   "name": "python3"
  },
  "language_info": {
   "codemirror_mode": {
    "name": "ipython",
    "version": 3
   },
   "file_extension": ".py",
   "mimetype": "text/x-python",
   "name": "python",
   "nbconvert_exporter": "python",
   "pygments_lexer": "ipython3",
   "version": "3.12.7"
  }
 },
 "nbformat": 4,
 "nbformat_minor": 5
}
